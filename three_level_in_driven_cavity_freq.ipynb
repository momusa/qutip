{
 "cells": [
  {
   "cell_type": "code",
   "execution_count": 4,
   "metadata": {},
   "outputs": [
    {
     "data": {
      "image/png": "[encoded data removed]",
      "text/plain": [
       "<matplotlib.figure.Figure at 0x7f695a1bb748>"
      ]
     },
     "metadata": {},
     "output_type": "display_data"
    }
   ],
   "source": [
    "#\n",
    "# Steady-state density matrix of a two-level atom in a high-Q\n",
    "# cavity for various driving frequencies calculated using\n",
    "# iterative 'steady' solver.\n",
    "#\n",
    "# Adapted from 'probss' example in the as functions of the detuning $\\Delta_c$.\n",
    "#\n",
    "from qutip import *\n",
    "from pylab import *\n",
    "import scipy\n",
    "\n",
    "def probss(E, kappa, gamma1, gamma2, gamma12, g, wc, w31, w32, w1, wl, N, Omega):\n",
    "    # construct composite operators\n",
    "    ida = qeye(N)\n",
    "    idatom = qeye(3)\n",
    "    sig13 = Qobj([[0, 0, 1],[0, 0, 0],[0, 0, 0]])\n",
    "    sig31 = Qobj([[0, 0, 0],[0, 0, 0],[1, 0, 0]])\n",
    "    sig23 = Qobj([[0, 0, 0],[0, 0, 1],[0, 0, 0]])\n",
    "    sig32 = Qobj([[0, 0, 0],[0, 0, 0],[0, 1, 0]])\n",
    "    sig12 = Qobj([[0, 1, 0],[0, 0, 0],[0, 0, 0]])\n",
    "    sig21 = Qobj([[0, 0, 0],[1, 0, 0],[0, 0, 0]])\n",
    "    sig33 = Qobj([[0, 0, 0],[0, 0, 0],[0, 0, 1]])\n",
    "    sig22 = Qobj([[0, 0, 0],[0, 1, 0],[0, 0, 0]])\n",
    "    \n",
    "    a = tensor(destroy(N), idatom)\n",
    "    s13 = tensor(ida, sig13)\n",
    "    s31 = tensor(ida, sig31)\n",
    "    s23 = tensor(ida, sig23)\n",
    "    s32 = tensor(ida, sig32)\n",
    "    s12 = tensor(ida, sig12)\n",
    "    s21 = tensor(ida, sig21)\n",
    "    s22 = tensor(ida, sig22)\n",
    "    s33 = tensor(ida, sig33)\n",
    "    \n",
    "    # Hamiltonian\n",
    "    H = (wl - wl + 3) * s31*s13 + (wl - wl - w32 + w1 + 3) * s23*s32 + (wc - wl) * a.dag() * a + \\\n",
    "        g * (a.dag()*s13  +  a*s31) + Omega * (s23 + s32) + E * (a.dag() + a) # E*(s31+s13) #\n",
    "\n",
    "    # Collapse operators\n",
    "    C1 = sqrt(2 * kappa) * a\n",
    "    C2 = sqrt(2 * gamma1) * s13\n",
    "    C3 = sqrt(2 * gamma2) * s32\n",
    "    C4 = sqrt(2 * gamma12) * s12\n",
    "    C1dC1 = C1.dag() * C1\n",
    "    C2dC2 = C2.dag() * C2\n",
    "    C3dC3 = C3.dag() * C3\n",
    "    #C4dC4 = C4.dag() * C4\n",
    "\n",
    "    #method\t‘direct’, ‘eigen’, ‘power’, ‘iterative-gmres’,’iterative-lgmres’, ‘svd’\n",
    "    \n",
    "    # find steady state\n",
    "    rhoss = steadystate(H, [C1, C2, C3, C4],use_precond=True, method='eigen',sparse=False,use_rcm = True, use_wbm=True,tol=1e-6)\n",
    "\n",
    "    # calculate expectation values\n",
    "    a_dag_a_e = expect(C1dC1, rhoss)\n",
    "    s33_e = expect(C2dC2, rhoss)\n",
    "    s22_e = expect(C3dC3, rhoss)\n",
    "    s13_e = expect(s13,rhoss)\n",
    "    s23_e = expect(s23,rhoss)\n",
    "    s13_a_e = expect(a.dag()*s13,rhoss)\n",
    "    s23_e = expect(s23,rhoss)\n",
    "    a_e = expect(a, rhoss)\n",
    "\n",
    "    return a_dag_a_e, s33_e, s22_e, s13_e, s23_e, s13_a_e, s23_e, a_e\n",
    "\n",
    "\n",
    "# setup the calculation\n",
    "#-----------------------\n",
    "# must be done before parfunc unless we\n",
    "# want to pass all variables as one using\n",
    "# zip function (see documentation for an example)\n",
    "kappa = 0.001\n",
    "gamma1 = 0.001\n",
    "gamma2 = 0.001\n",
    "gamma12 =0.0\n",
    "Omega = 0.05\n",
    "g = 3.0\n",
    "wc = 0.0\n",
    "w31 = 0.0\n",
    "w32 = 0.0\n",
    "w1 = 0.0\n",
    "N =30\n",
    "E = 0.128\n",
    "\n",
    "nloop = 2000\n",
    "wl = linspace(-7,5,nloop)\n",
    "\n",
    "# define single-variable function for use in parfor\n",
    "# cannot be defined inside run() since it needs to\n",
    "# be passed into seperate threads.\n",
    "def parfunc(wl):  # function of wl only\n",
    "    a_dag_a_e, s33_e, s22_e, s13_e, s23_e, s13_a_e, s23_e, a_e = probss(E, kappa, gamma1, gamma2, gamma12, g, wc, w31, w32, w1, wl, N, Omega)\n",
    "    return a_dag_a_e, s33_e, s22_e, s13_e, s23_e, s13_a_e, s23_e, a_e\n",
    "\n",
    "def run():\n",
    "    # run parallel for-loop over wlist\n",
    "    a_dag_a_e, s33_e, s22_e, s13_e, s23_e, s13_a_e, s23_e, a_e = parfor(parfunc, wl)\n",
    "    \n",
    "   # output_data=vstack((wlist,real(count1), imag(count1),real(count2), imag(count2),real(count3),imag(count3),real(sma),imag(sma), real(infield),imag(infield)))\n",
    "    output_data=vstack((wl,real(a_dag_a_e),real(s33_e),real(s22_e), real(s13_e), imag(s13_e),real(s23_e), imag(s23_e),real(s13_a_e), imag(s13_a_e),real(s23_e), imag(s23_e), real(a_e),imag(a_e)))\n",
    "    file_data_store('/home/photon/Dropbox/data/three_level_single_mode/quantum_spectra/full_spectrum/g_3_Omeg_0_00_k_0_001_gam1_0_001_gam2_0_001_gam12_0_0_E_0_128_vertical_scan_shifted_down_3a.dat',output_data.T,numtype=\"real\",sep=\",\")\n",
    "    \n",
    "    # plot cavity emission and qubit spontaneous emssion\n",
    "    fig = figure(1)\n",
    "    ax = fig.add_subplot(111)\n",
    "    #ax.plot(wlist, real(a_dag_a_e), lw=2)\n",
    "    ax.plot(wl, real(a_dag_a_e),lw=2)\n",
    "    xlabel('Drive Frequency Detuning')\n",
    "    ylabel('Count rates')\n",
    "    xlim(-5,5)\n",
    "    ax.grid()\n",
    "    show()\n",
    "\n",
    "\n",
    "if __name__ == \"__main__\":\n",
    "   run()"
   ]
  },
  {
   "cell_type": "code",
   "execution_count": null,
   "metadata": {},
   "outputs": [],
   "source": [
    "## output_data=vstack((wlist,real(count1),imag(count1),real(infield),imag(infield),real(sma), imag(sma),real(spa), imag(spa)))\n",
    "file_data_store('/photon/Documents/manuscripts/data/three_level_strong_cavity/quantum_model/spa_sma.dat',output_data.T,numtype=\"real\",sep=\",\")"
   ]
  },
  {
   "cell_type": "code",
   "execution_count": null,
   "metadata": {},
   "outputs": [],
   "source": [
    "#import qutip.testing as qt\n",
    "#qt.run()"
   ]
  },
  {
   "cell_type": "code",
   "execution_count": null,
   "metadata": {},
   "outputs": [],
   "source": [
    ".dat',output_data.T,numtype=\"real\",sep=\",\")\n",
    "    sig13=tensor(basis(3,0), basis(3,2).dag())"
   ]
  },
  {
   "cell_type": "code",
   "execution_count": null,
   "metadata": {},
   "outputs": [],
   "source": [
    "basis(3,0)\n",
    "ida\n",
    "idatom\n",
    "#sig13"
   ]
  },
  {
   "cell_type": "code",
   "execution_count": null,
   "metadata": {},
   "outputs": [],
   "source": [
    "sig13=Qobj([[0,0,1],[0,0,0],[0,0,0]])\n",
    "sig23=Qobj([[0,0,0],[0,0,1],[0,0,0]])\n",
    "sig12 = Qobj([[0,1,0],[0,0,0],[0,0,0]])"
   ]
  },
  {
   "cell_type": "code",
   "execution_count": null,
   "metadata": {},
   "outputs": [],
   "source": [
    "print(sig12)"
   ]
  },
  {
   "cell_type": "code",
   "execution_count": null,
   "metadata": {},
   "outputs": [],
   "source": []
  }
 ],
 "metadata": {
  "kernelspec": {
   "display_name": "Python 3",
   "language": "python",
   "name": "python3"
  },
  "language_info": {
   "codemirror_mode": {
    "name": "ipython",
    "version": 3
   },
   "file_extension": ".py",
   "mimetype": "text/x-python",
   "name": "python",
   "nbconvert_exporter": "python",
   "pygments_lexer": "ipython3",
   "version": "3.6.8"
  }
 },
 "nbformat": 4,
 "nbformat_minor": 1
}
